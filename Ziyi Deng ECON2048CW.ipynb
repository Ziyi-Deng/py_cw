{
 "cells": [
  {
   "cell_type": "markdown",
   "id": "18397612",
   "metadata": {
    "deletable": false,
    "editable": false,
    "nbgrader": {
     "cell_type": "markdown",
     "checksum": "ee8a72a9f3dd83ff088ec7ab4db9c44d",
     "grade": false,
     "grade_id": "cell-c6f125c58f61c7ef",
     "locked": true,
     "schema_version": 3,
     "solution": false,
     "task": false
    }
   },
   "source": [
    "# ECON2048 Coursework\n",
    "\n",
    "- There are 7 questions in total.\n",
    "- The points of each question is shown at the end of each question.\n",
    "- Write your code in the answer cell, where you see `#Answer Cell` in beginning of the cell.\n",
    "- In the answer cell, you will see `# YOUR CODE HERE` and `raise NotImplementedError()`. Delete both of them, and write your own code.\n",
    "- **Important!!!!** Follow the instructions given in the question and use the variable or function names specified. For example, in Question 1, you are asked to create a variable `arr` with certain requirement. You need to use this exact name in order to get the points.\n",
    "- There are some cells with only one line `# Do not edit this cell!!!`. They are used for testing and do not edit these cells. They are actually set to be read-only, so you technically wouldn't be able to edit them even if you want to.\n",
    "- Use IPython Version higher than 3. You can run the first code cell before Question 1 to check whether your IPython version is higher than 3. If there is no AssertionError raised, then you are fine.\n",
    "- Regarding the functions, you can write some examples to test whether the function can correctly perform the task.\n",
    "- You can insert cells if you need to try out different things. But make sure you delete them before you submit.\n",
    "- Before you submit, restart the kernel (in the menubar, select Kernel → Restart) and then run all cells, and make sure there is no error."
   ]
  },
  {
   "cell_type": "code",
   "execution_count": null,
   "id": "b2da342b",
   "metadata": {
    "deletable": false,
    "editable": false,
    "nbgrader": {
     "cell_type": "code",
     "checksum": "955f7833184ab52abc7a70fe8fcabe93",
     "grade": false,
     "grade_id": "cell-1cbcd9c4174ac901",
     "locked": true,
     "schema_version": 3,
     "solution": false,
     "task": false
    }
   },
   "outputs": [],
   "source": [
    "import IPython\n",
    "assert IPython.version_info[0] >= 3, \"Your version of IPython is too old, please update it.\""
   ]
  },
  {
   "cell_type": "markdown",
   "id": "2d388d68",
   "metadata": {
    "deletable": false,
    "editable": false,
    "nbgrader": {
     "cell_type": "markdown",
     "checksum": "4e2210eeb30f58b10f894451d6dd7789",
     "grade": false,
     "grade_id": "cell-7354da412caed772",
     "locked": true,
     "schema_version": 3,
     "solution": false,
     "task": false
    }
   },
   "source": [
    "## Question 1\n",
    "Create a 2d array of shape (30,30), with 1 on the border and 0 inside.\n",
    "Assign this array to variable `arr`.\n",
    "\n",
    "[2 Points]"
   ]
  },
  {
   "cell_type": "code",
   "execution_count": 2,
   "id": "81bd8db1",
   "metadata": {
    "deletable": false,
    "nbgrader": {
     "cell_type": "code",
     "checksum": "8a066aae8f519630999b795f0eedd329",
     "grade": false,
     "grade_id": "cell-6d2696a9d189f170",
     "locked": false,
     "schema_version": 3,
     "solution": true,
     "task": false
    }
   },
   "outputs": [],
   "source": [
    "#Answer Cell\n",
    "import numpy as np\n",
    "arr = np.ones((30,30))\n",
    "arr[1:-1,1:-1] = 0"
   ]
  },
  {
   "cell_type": "code",
   "execution_count": null,
   "id": "f7698da7",
   "metadata": {
    "deletable": false,
    "editable": false,
    "nbgrader": {
     "cell_type": "code",
     "checksum": "8cfd4d148e266dc1c28307e37d1b5617",
     "grade": true,
     "grade_id": "cell-4ab82a8d2fcdab8a",
     "locked": true,
     "points": 2,
     "schema_version": 3,
     "solution": false,
     "task": false
    }
   },
   "outputs": [],
   "source": [
    "# Do not edit this cell!!!"
   ]
  },
  {
   "cell_type": "markdown",
   "id": "d11cf115",
   "metadata": {
    "deletable": false,
    "editable": false,
    "nbgrader": {
     "cell_type": "markdown",
     "checksum": "e3dc0dcfb3454dfe4f1b101f937c8d19",
     "grade": false,
     "grade_id": "cell-db594ab9bdd0fa4e",
     "locked": true,
     "schema_version": 3,
     "solution": false,
     "task": false
    }
   },
   "source": [
    "## Question 2\n",
    "Create a 2d array of shape (30,30), with elements being i+j, where i is the row index, and j is the column index. Assign this array to variable `arr`.\n",
    "\n",
    "[2 Points]"
   ]
  },
  {
   "cell_type": "code",
   "execution_count": 6,
   "id": "a1d505c2",
   "metadata": {
    "deletable": false,
    "nbgrader": {
     "cell_type": "code",
     "checksum": "3b8c7322fc377891f6abe974f1b5b7f4",
     "grade": false,
     "grade_id": "cell-114a65d5c133f827",
     "locked": false,
     "schema_version": 3,
     "solution": true,
     "task": false
    }
   },
   "outputs": [],
   "source": [
    "#Answer Cell\n",
    "arr = np.zeros((30,30))\n",
    "for i in range(np.size(arr,0)):\n",
    "    for j in range(np.size(arr,1)):\n",
    "        arr[i,j] = i+j"
   ]
  },
  {
   "cell_type": "code",
   "execution_count": null,
   "id": "b5d69766",
   "metadata": {
    "deletable": false,
    "editable": false,
    "nbgrader": {
     "cell_type": "code",
     "checksum": "9bcf5f8de74df849d88150f077d36471",
     "grade": true,
     "grade_id": "cell-52577333809dc464",
     "locked": true,
     "points": 2,
     "schema_version": 3,
     "solution": false,
     "task": false
    }
   },
   "outputs": [],
   "source": [
    "# Do not edit this cell!!!"
   ]
  },
  {
   "cell_type": "markdown",
   "id": "1b5a4c11",
   "metadata": {
    "deletable": false,
    "editable": false,
    "nbgrader": {
     "cell_type": "markdown",
     "checksum": "cc0bd082a324b78c196d36b061ceb1bd",
     "grade": false,
     "grade_id": "cell-940b84c7fb8fc44c",
     "locked": true,
     "schema_version": 3,
     "solution": false,
     "task": false
    }
   },
   "source": [
    "## Question 3\n",
    "`random.randint` can be uesd to generate random integer numbers and it is used to generate a 2d array (shape being 30 by 30) with random integers from 0 to 9, and it is assigned to `arr` as shown below. Select column (or columns) of `arr` whose sums are divisible by 3 or divisible by 5 and assign it to `arr_sub` (2d array).  \n",
    "\n",
    "[2 Points]"
   ]
  },
  {
   "cell_type": "code",
   "execution_count": 4,
   "id": "e71b13d0",
   "metadata": {
    "deletable": false,
    "nbgrader": {
     "cell_type": "code",
     "checksum": "c0d8529c008a67c6ea0c716f5e28383f",
     "grade": false,
     "grade_id": "cell-5aaf1645b98b3bf8",
     "locked": false,
     "schema_version": 3,
     "solution": true,
     "task": false
    }
   },
   "outputs": [],
   "source": [
    "#Answer Cell\n",
    "import numpy as np\n",
    "np.random.seed(100) \n",
    "arr = np.random.randint(0,10,(30,30))\n",
    "y = np.sum(arr,0)%3 == 0 \n",
    "z = np.sum(arr,0)%5 == 0\n",
    "sel = np.logical_or(y,z)\n",
    "arr_sub = arr[:,sel]"
   ]
  },
  {
   "cell_type": "code",
   "execution_count": null,
   "id": "2248c6f3",
   "metadata": {
    "deletable": false,
    "editable": false,
    "nbgrader": {
     "cell_type": "code",
     "checksum": "c51f291f18744b259a021323708fb2d9",
     "grade": true,
     "grade_id": "cell-d708af24c39ae059",
     "locked": true,
     "points": 2,
     "schema_version": 3,
     "solution": false,
     "task": false
    }
   },
   "outputs": [],
   "source": [
    "# Do not edit this cell!!!"
   ]
  },
  {
   "cell_type": "markdown",
   "id": "7de9675f",
   "metadata": {
    "deletable": false,
    "editable": false,
    "nbgrader": {
     "cell_type": "markdown",
     "checksum": "43002e507279aa5099054141796a8430",
     "grade": false,
     "grade_id": "cell-089ef36ef6e4f106",
     "locked": true,
     "schema_version": 3,
     "solution": false,
     "task": false
    }
   },
   "source": [
    "## Question 4\n",
    "A 2d array named `arr` is generated using `random.randn` as shown below. Replace all elements in `arr` smaller than -1 with -1, elements bigger than 1 with 1, and elements between -1 and 1 (inclusive) with 0.\n",
    "\n",
    "[2 Points]"
   ]
  },
  {
   "cell_type": "code",
   "execution_count": 2,
   "id": "19a2b4fd",
   "metadata": {
    "deletable": false,
    "nbgrader": {
     "cell_type": "code",
     "checksum": "ec629a74f789088b736b14e2b483e81c",
     "grade": false,
     "grade_id": "cell-4f5b9f242f06af51",
     "locked": false,
     "schema_version": 3,
     "solution": true,
     "task": false
    }
   },
   "outputs": [],
   "source": [
    "#Answer Cell\n",
    "import numpy as np\n",
    "np.random.seed(100) \n",
    "arr = np.random.randn(30,30)\n",
    "for i in range(np.size(arr,0)):\n",
    "    for j in range(np.size(arr,1)):\n",
    "        if arr[i,j] < -1:\n",
    "            arr[i,j] = -1\n",
    "        elif arr[i,j] >1:\n",
    "            arr[i,j] = 1\n",
    "        else:\n",
    "            arr[i,j] = 0"
   ]
  },
  {
   "cell_type": "code",
   "execution_count": null,
   "id": "c3ee710a",
   "metadata": {
    "deletable": false,
    "editable": false,
    "nbgrader": {
     "cell_type": "code",
     "checksum": "b5543c366b4d8ccca30bde6adfc86c32",
     "grade": true,
     "grade_id": "cell-4dc40b20a602b23e",
     "locked": true,
     "points": 2,
     "schema_version": 3,
     "solution": false,
     "task": false
    }
   },
   "outputs": [],
   "source": [
    "# Do not edit this cell!!!"
   ]
  },
  {
   "cell_type": "markdown",
   "id": "15bca772",
   "metadata": {
    "deletable": false,
    "editable": false,
    "nbgrader": {
     "cell_type": "markdown",
     "checksum": "77a068995dfcfe9688ff4c4543386409",
     "grade": false,
     "grade_id": "cell-4336375fa27b048e",
     "locked": true,
     "schema_version": 3,
     "solution": false,
     "task": false
    }
   },
   "source": [
    "## Question 5 \n",
    "Write a function named `fill_na_row` that takes a pandas DataFrame as input and returns a NaN filled DataFrame, where any NaN values are replaced by corresponding row means (average of each row without NaN values). Note that the input should not be modified. \n",
    "\n",
    "[2 Points]"
   ]
  },
  {
   "cell_type": "code",
   "execution_count": 6,
   "id": "3f18de71",
   "metadata": {
    "deletable": false,
    "nbgrader": {
     "cell_type": "code",
     "checksum": "9c4467c8f5d2d741fdd75294f513044d",
     "grade": false,
     "grade_id": "cell-4f1643284813960c",
     "locked": false,
     "schema_version": 3,
     "solution": true,
     "task": false
    }
   },
   "outputs": [],
   "source": [
    "#Answer Cell\n",
    "import pandas as pd\n",
    "import numpy as np\n",
    "def fill_na_row(df):\n",
    "    df2 = df.T\n",
    "    df2 = df2.fillna(value=df2.mean())\n",
    "    df = df2.T\n",
    "    return df"
   ]
  },
  {
   "cell_type": "code",
   "execution_count": null,
   "id": "74108618",
   "metadata": {
    "deletable": false,
    "editable": false,
    "nbgrader": {
     "cell_type": "code",
     "checksum": "563e3e01c4ce5304b3b85e2aeb1fe2ce",
     "grade": true,
     "grade_id": "cell-53cc820f3d0a08dd",
     "locked": true,
     "points": 1,
     "schema_version": 3,
     "solution": false,
     "task": false
    }
   },
   "outputs": [],
   "source": [
    "# Do not edit this cell!!!"
   ]
  },
  {
   "cell_type": "code",
   "execution_count": null,
   "id": "8ef7ec96",
   "metadata": {
    "deletable": false,
    "editable": false,
    "nbgrader": {
     "cell_type": "code",
     "checksum": "b3d44f6189135e023e1c100337624855",
     "grade": true,
     "grade_id": "cell-feb6727c85710153",
     "locked": true,
     "points": 1,
     "schema_version": 3,
     "solution": false,
     "task": false
    }
   },
   "outputs": [],
   "source": [
    "# Do not edit this cell!!!"
   ]
  },
  {
   "cell_type": "markdown",
   "id": "0a95c396",
   "metadata": {
    "deletable": false,
    "editable": false,
    "nbgrader": {
     "cell_type": "markdown",
     "checksum": "9d14a715a5f913ec2033d8620c609c3e",
     "grade": false,
     "grade_id": "cell-b83d177adf3dd63d",
     "locked": true,
     "schema_version": 3,
     "solution": false,
     "task": false
    }
   },
   "source": [
    "## Question 6\n",
    "(a) Write a function `ols_est` which takes a T by K 2d array X and a T by 1 2d array y, and returns a K by 4 pandas DataFrame, where the columns are \"parameter estimates\", \"standard errors\", \"t statistics\" and \"p values\". The results are calculated using OLS. (hint: `scipy.stats.t.cdf` can be used to calculate the value of cdf of t distribution. For example, `scipy.stats.t.cdf(x=0,df=2)` calculates the value of the cdf function at x=0 for a t distribution with 2 degress of freedom.) \n",
    "\n",
    "[3 Points]"
   ]
  },
  {
   "cell_type": "code",
   "execution_count": 7,
   "id": "1cedd7c9",
   "metadata": {
    "deletable": false,
    "nbgrader": {
     "cell_type": "code",
     "checksum": "540a4500bc6a316ffe3062e250d21bfa",
     "grade": false,
     "grade_id": "cell-bc36db27c8180361",
     "locked": false,
     "schema_version": 3,
     "solution": true,
     "task": false
    }
   },
   "outputs": [],
   "source": [
    "#Answer Cell\n",
    "import scipy.stats as st\n",
    "import numpy as np\n",
    "def ols_ets(X,y):\n",
    "    import pandas as pd\n",
    "    from pandas import DataFrame\n",
    "    from pandas import Series\n",
    "    from numpy import linalg\n",
    "    T = np.size(X,0)\n",
    "    K = np.size(X,1)\n",
    "    beta_hat = np.linalg.inv(X.T@X)@X.T@y\n",
    "    s1 = Series(beta_hat.flatten())\n",
    "    y_fitted = X @ beta_hat\n",
    "    res = y - y_fitted\n",
    "    sigma_hat = res.T@res / (T-K)\n",
    "    v = sigma_hat*np.linalg.inv(X.T@X)\n",
    "    variance_beta_hat = np.diag(v)\n",
    "    stderr = np.sqrt(np.abs(variance_beta_hat))\n",
    "    s2 = Series(stderr)\n",
    "    t_stat = np.zeros(np.size(beta_hat))\n",
    "    for i in range(K):\n",
    "        t_stat[i] = (beta_hat[i]/ stderr[i])          \n",
    "    s3 = Series(t_stat)\n",
    "    p_value = np.zeros(np.size(t_stat))\n",
    "    for i in range(np.size(p_value)):\n",
    "        p_value[i] = (1-st.t.cdf(abs(t_stat[i]),T-K))*2\n",
    "    s4 = Series(p_value)\n",
    "    return DataFrame({'parameter estimates': s1, 'standard errors': s2, 't statistics': s3, 'p values': s4})"
   ]
  },
  {
   "cell_type": "code",
   "execution_count": 81,
   "id": "2ba2d1aa",
   "metadata": {
    "deletable": false,
    "editable": false,
    "nbgrader": {
     "cell_type": "code",
     "checksum": "38911b325bb48c3d2113c0dcbaed5dcb",
     "grade": true,
     "grade_id": "cell-9b8e8a47f35710c5",
     "locked": true,
     "points": 3,
     "schema_version": 3,
     "solution": false,
     "task": false
    }
   },
   "outputs": [],
   "source": [
    "# Do not edit this cell!!!"
   ]
  },
  {
   "cell_type": "markdown",
   "id": "1a05be2d",
   "metadata": {
    "deletable": false,
    "editable": false,
    "nbgrader": {
     "cell_type": "markdown",
     "checksum": "88ca152fba341f2994e6e8cbc3fad52e",
     "grade": false,
     "grade_id": "cell-f745d0914cb9f82a",
     "locked": true,
     "schema_version": 3,
     "solution": false,
     "task": false
    }
   },
   "source": [
    "(b) Modify the function in (a) and name the new function as `ols_R2`, so the input is the same but the output is a scalar, which is R square of fitted model, \n",
    "$$R^{2}=\\frac{ESS}{TSS}=\\frac{\\sum_{t=1}^{n}\\left(\\hat{y}_{t}-\\bar{y}\\right)^{2}}{\\sum_{t=1}^{n}\\left(y_{t}-\\bar{y}\\right)^{2}}.$$\n",
    "\n",
    "[2 Points]"
   ]
  },
  {
   "cell_type": "code",
   "execution_count": 6,
   "id": "2f407785",
   "metadata": {
    "deletable": false,
    "nbgrader": {
     "cell_type": "code",
     "checksum": "004c9094601cc1973fde952008b1287c",
     "grade": false,
     "grade_id": "cell-44f2c428c5a4d56b",
     "locked": false,
     "schema_version": 3,
     "solution": true,
     "task": false
    }
   },
   "outputs": [],
   "source": [
    "#Answer Cell\n",
    "import numpy as np\n",
    "def ols_R2(X,y):\n",
    "    from numpy import linalg\n",
    "    T = np.size(X,0)\n",
    "    K = np.size(X,1)\n",
    "    beta_hat = np.linalg.inv(X.T@X)@X.T@y\n",
    "    y_fitted = X @ beta_hat\n",
    "    y_mean = np.mean(y)\n",
    "    ESS_value = np.zeros(T)\n",
    "    TSS_value = np.zeros(T)\n",
    "    for t in range(T):\n",
    "        ESS_value[t] = np.square(y_fitted[t] - y_mean)\n",
    "        TSS_value[t] = np.square(y[t] - y_mean)\n",
    "    ESS = ESS_value.sum()\n",
    "    TSS = TSS_value.sum()\n",
    "    R2 = ESS / TSS\n",
    "    return R2.item()"
   ]
  },
  {
   "cell_type": "code",
   "execution_count": null,
   "id": "95275529",
   "metadata": {
    "deletable": false,
    "editable": false,
    "nbgrader": {
     "cell_type": "code",
     "checksum": "0af36bcef7df874e8ebcd60224340865",
     "grade": true,
     "grade_id": "cell-f8d26f25691b012c",
     "locked": true,
     "points": 2,
     "schema_version": 3,
     "solution": false,
     "task": false
    }
   },
   "outputs": [],
   "source": [
    "# Do not edit this cell!!!"
   ]
  },
  {
   "cell_type": "markdown",
   "id": "38608a26",
   "metadata": {
    "deletable": false,
    "editable": false,
    "nbgrader": {
     "cell_type": "markdown",
     "checksum": "4f136bfee73a42cc9b453a2faef9f447",
     "grade": false,
     "grade_id": "cell-34fc3f6401a52343",
     "locked": true,
     "schema_version": 3,
     "solution": false,
     "task": false
    }
   },
   "source": [
    "(c) Modify the function in (b) and name the new function as `ols_F`, so the input is the same but the output is F statistic can be calculated as $$F=\\frac{R^{2} /(k-1)}{(1-R^{2}) /(n-k)}.$$\n",
    "\n",
    "[2 Points]"
   ]
  },
  {
   "cell_type": "code",
   "execution_count": 5,
   "id": "faba319c",
   "metadata": {
    "deletable": false,
    "nbgrader": {
     "cell_type": "code",
     "checksum": "4878e852106f003fb4cecfee5508d01a",
     "grade": false,
     "grade_id": "cell-abf29180c08a7d4c",
     "locked": false,
     "schema_version": 3,
     "solution": true,
     "task": false
    }
   },
   "outputs": [],
   "source": [
    "#Answer Cell\n",
    "#Answer Cell\n",
    "import numpy as np\n",
    "def ols_F(X,y):\n",
    "    from numpy import linalg\n",
    "    T = np.size(X,0)\n",
    "    K = np.size(X,1)\n",
    "    beta_hat = np.linalg.inv(X.T@X)@X.T@y\n",
    "    y_fitted = X @ beta_hat\n",
    "    y_mean = np.mean(y)\n",
    "    ESS_value = np.zeros(T)\n",
    "    TSS_value = np.zeros(T)\n",
    "    for t in range(T):\n",
    "        ESS_value[t] = np.square(y_fitted[t] - y_mean)\n",
    "        TSS_value[t] = np.square(y[t] - y_mean)\n",
    "    ESS = ESS_value.sum()\n",
    "    TSS = TSS_value.sum()\n",
    "    R2 = ESS / TSS\n",
    "    F = (R2.item()/(K-1)) / ((1-R2.item())/(T-K))\n",
    "    return F"
   ]
  },
  {
   "cell_type": "code",
   "execution_count": null,
   "id": "fde645b0",
   "metadata": {
    "deletable": false,
    "editable": false,
    "nbgrader": {
     "cell_type": "code",
     "checksum": "4e08e55a6dcf7ba47f40be92379a01ae",
     "grade": true,
     "grade_id": "cell-e1942c7fb7c4b96b",
     "locked": true,
     "points": 2,
     "schema_version": 3,
     "solution": false,
     "task": false
    }
   },
   "outputs": [],
   "source": [
    "# Do not edit this cell!!!"
   ]
  },
  {
   "cell_type": "markdown",
   "id": "0011eed0",
   "metadata": {
    "deletable": false,
    "editable": false,
    "nbgrader": {
     "cell_type": "markdown",
     "checksum": "31ddb8ae2c57de534a2c3670212c0abe",
     "grade": false,
     "grade_id": "cell-018fee880f35870e",
     "locked": true,
     "schema_version": 3,
     "solution": false,
     "task": false
    }
   },
   "source": [
    "## Question 7\n",
    "(a) A unit root is a stochastic trend in a time series. If a time series has a unit root, it shows a systematic pattern that is unpredictable. Let us first look at a simple AR(1) model without intercept:\n",
    "$$\n",
    "y_{t}=\\rho y_{t-1}+e_{t}, t=0,1,2, \\ldots\n",
    "$$\n",
    "where $e_t$ is the error term with zero mean. Assume that $y_0=0$ and $\\rho=0.5$. Generate a 1d array named `yt_ar` that stores the values of $y_{t}, t=0,1,2,..., 100$ given that $e_{t}, t=1,2,..., 100$ is generated and store it in `et` using the code below. (Note that $y_{t}$ should have 101 elements)\n",
    "\n",
    "[1 Point]"
   ]
  },
  {
   "cell_type": "code",
   "execution_count": 19,
   "id": "8f341562",
   "metadata": {
    "deletable": false,
    "nbgrader": {
     "cell_type": "code",
     "checksum": "63ec19660324cc0bbdd5d75692675630",
     "grade": false,
     "grade_id": "cell-db63f0960a4d7ba9",
     "locked": false,
     "schema_version": 3,
     "solution": true,
     "task": false
    }
   },
   "outputs": [],
   "source": [
    "#Answer Cell\n",
    "import numpy as np\n",
    "np.random.seed(100)\n",
    "et = np.random.randn(100)\n",
    "yt_ar = np.zeros(101)\n",
    "for i in range(np.size(yt_ar)):\n",
    "    if i >= 1:\n",
    "        yt_ar[i] = 0.5*yt_ar[i-1]+et[i-1]\n",
    "    else:\n",
    "        yt_ar[i] = 0"
   ]
  },
  {
   "cell_type": "code",
   "execution_count": null,
   "id": "cd217ae1",
   "metadata": {
    "deletable": false,
    "editable": false,
    "nbgrader": {
     "cell_type": "code",
     "checksum": "f3303012918886344ebcc1752689eb69",
     "grade": true,
     "grade_id": "cell-f478601d75ce5451",
     "locked": true,
     "points": 1,
     "schema_version": 3,
     "solution": false,
     "task": false
    }
   },
   "outputs": [],
   "source": [
    "# Do not edit this cell!!!"
   ]
  },
  {
   "cell_type": "markdown",
   "id": "80cd27cc",
   "metadata": {
    "deletable": false,
    "editable": false,
    "nbgrader": {
     "cell_type": "markdown",
     "checksum": "c1170c8b4899655bd2bcc11111f757f2",
     "grade": false,
     "grade_id": "cell-a705100417a26518",
     "locked": true,
     "schema_version": 3,
     "solution": false,
     "task": false
    }
   },
   "source": [
    "(b) If $\\rho=1$, the model becomes a unit root process:\n",
    "$$\n",
    "y_{t}=y_{t-1}+e_{t}, t=0,1,2, \\ldots\n",
    "$$\n",
    "It is a random walk without drift. Assuming $y_0=0$, generate a 1d array named `yt_rw` that stores the values of $y_{t}, t=0,1,2,..., 100$ given that $e_{t}, t=1,2,..., 100$ is generated and store it in `et` using the code below.\n",
    "\n",
    "[1 Point]"
   ]
  },
  {
   "cell_type": "code",
   "execution_count": 18,
   "id": "2bb17615",
   "metadata": {
    "deletable": false,
    "nbgrader": {
     "cell_type": "code",
     "checksum": "486ce191e82f52e768ea7b8c40748083",
     "grade": false,
     "grade_id": "cell-98ac11ec99198abf",
     "locked": false,
     "schema_version": 3,
     "solution": true,
     "task": false
    }
   },
   "outputs": [],
   "source": [
    "#Answer Cell\n",
    "import numpy as np\n",
    "np.random.seed(100)\n",
    "et = np.random.randn(100)\n",
    "yt_rw = np.zeros(101)\n",
    "for i in range(np.size(yt_rw)):\n",
    "    if i >= 1:\n",
    "        yt_rw[i] = yt_rw[i-1]+et[i-1]\n",
    "    else:\n",
    "        yt_rw[i] = 0"
   ]
  },
  {
   "cell_type": "code",
   "execution_count": null,
   "id": "3e1988df",
   "metadata": {
    "deletable": false,
    "editable": false,
    "nbgrader": {
     "cell_type": "code",
     "checksum": "dd81160d98a18cf5e6634da848dffc9d",
     "grade": true,
     "grade_id": "cell-e6d143bbaf4a931f",
     "locked": true,
     "points": 1,
     "schema_version": 3,
     "solution": false,
     "task": false
    }
   },
   "outputs": [],
   "source": [
    "# Do not edit this cell!!!"
   ]
  },
  {
   "cell_type": "markdown",
   "id": "a8cf0ce6",
   "metadata": {
    "deletable": false,
    "editable": false,
    "nbgrader": {
     "cell_type": "markdown",
     "checksum": "8c6320f7e15430dcec42bb2d3c95fca5",
     "grade": false,
     "grade_id": "cell-23ece1627844f2cb",
     "locked": true,
     "schema_version": 3,
     "solution": false,
     "task": false
    }
   },
   "source": [
    "(c) Generate line plots of `yt_ar` and `yt_rw`, and put them in the same figure. In addition, generate a legend that indicate two processes as \"AR(1)\" and \"Random Walk\" correspondingly.\n",
    "\n",
    "[1 Point]"
   ]
  },
  {
   "cell_type": "code",
   "execution_count": 17,
   "id": "4d7807d8",
   "metadata": {
    "deletable": false,
    "nbgrader": {
     "cell_type": "code",
     "checksum": "f2643f1a2fa7d2dfff42edfce079bcf5",
     "grade": true,
     "grade_id": "cell-ed41d97ba4940db3",
     "locked": false,
     "points": 1,
     "schema_version": 3,
     "solution": true,
     "task": false
    }
   },
   "outputs": [],
   "source": [
    "#Answer Cell\n",
    "import matplotlib.pyplot as plt\n",
    "fig = plt.figure()\n",
    "plt.plot(yt_ar, 'r-', label='AR(1)')\n",
    "plt.plot(yt_rw, 'g-', label='Random Walk')\n",
    "plt.legend()"
   ]
  },
  {
   "cell_type": "markdown",
   "id": "d78a5ec8",
   "metadata": {
    "deletable": false,
    "editable": false,
    "nbgrader": {
     "cell_type": "markdown",
     "checksum": "a24709c7289c4c3728da5b3a6d50f670",
     "grade": false,
     "grade_id": "cell-2f0ae9ff63658bd1",
     "locked": true,
     "schema_version": 3,
     "solution": false,
     "task": false
    }
   },
   "source": [
    "(d) Given the model\n",
    "$$\n",
    "y_{t}=\\rho y_{t-1}+e_{t}, t=0,1,2, \\ldots\n",
    "$$\n",
    "whether $y_t$ has a unit root can be tested using the null hypothesis:\n",
    "$$\n",
    "\\mathrm{H}_{0}: \\rho=1.\n",
    "$$\n",
    "We are interested in the one-sided alternative:\n",
    "$$\n",
    "\\mathrm{H}_{1}: \\rho<1\n",
    "$$\n",
    "The alternative $\\mathrm{H}_{1}: \\rho>1 $ is not usually considered, since it implies that  $y_{t}$ is explosive.\n",
    "A convenient equation for carrying out the unit root test is to subtract $y_{t-1}$ from both sides of the above model and to define $\\theta=\\rho-1$ :\n",
    "$$\n",
    "\\Delta y_{t}=\\alpha+\\theta y_{t-1}+e_{t} .\n",
    "$$\n",
    "We can then test $\\mathrm{H}_{0}: \\theta=0$ against $\\mathrm{H}_{1}: \\theta<0$. However, under $\\mathrm{H}_{0}$, the usual central limit theorem that underlies the asymptotic standard normal distribution for the $t$ statistic does not apply: the $t$ statistic does not have an approximate standard normal distribution even in large sample sizes. The asymptotic distribution of the $t$ statistic under $\\mathrm{H}_{0}$ has come to be known as the Dickey-Fuller distribution. Although we cannot use the usual critical values, we can use the usual $t$ statistic for $\\hat{\\theta}$, and compare it to the appropriate critical values. The resulting test is known as the Dickey-Fuller (DF) test for a unit root. The theory used to obtain the asymptotic critical values is rather complicated but we can generate simulations to find critical values for various significance levels. We can use the functions provided by `statsmodels` package to estimate the coefficients and t statistic using OLS. For example, if we have `yt` as a 1d array of dependent variable and `xt` as a 1d array of independent variable, we can use the following code to fit a simple linear regression model $y_{t}=\\alpha +\\beta x_t+e_{t}$ using OLS:\n",
    "\n",
    "`import statsmodels.api as sm\n",
    "reg = sm.OLS(yt,sm.add_constant(xt)).fit()`\n",
    "\n",
    "where `sm.add_constant` is used to add the intercept (create and add an array of 1s). The t statistics associated with null hypotheses intercept and slope being equal to 0 can be retrieved using `reg.tvalues` (which is a 1d array with with two t statistics).\n",
    "Create a function named `tvalues_ols` that takes an 1d array ($y_t$, t =0,1,2,...,n) as input and use `statsmodels` to estimate the following model:\n",
    "$$\n",
    "\\Delta y_{t}=\\alpha+\\theta y_{t-1}+e_{t}, t =1,2,...,n\n",
    "$$\n",
    "and return a scalar, which is the t statistic under the null hypothesis $\\mathrm{H}_{0}: \\theta=0$.\n",
    "\n",
    "[1 Point]"
   ]
  },
  {
   "cell_type": "code",
   "execution_count": 28,
   "id": "b77b2476",
   "metadata": {
    "deletable": false,
    "nbgrader": {
     "cell_type": "code",
     "checksum": "6c3d5aaafda1e62b3a3ebf7cc3e5693b",
     "grade": false,
     "grade_id": "cell-684c241a0a6bf3b2",
     "locked": false,
     "schema_version": 3,
     "solution": true,
     "task": false
    }
   },
   "outputs": [],
   "source": [
    "#Answer Cell\n",
    "import statsmodels.api as sm\n",
    "import numpy as np\n",
    "def tvalue_ols(yt):\n",
    "    delta_yt = np.diff(yt, n=1)\n",
    "    xt = np.zeros(np.size(delta_yt))\n",
    "    for i in range(np.size(xt)):\n",
    "        xt[i] = yt[i]\n",
    "    reg = sm.OLS(delta_yt,sm.add_constant(xt)).fit()\n",
    "    return reg.tvalues[1]"
   ]
  },
  {
   "cell_type": "code",
   "execution_count": null,
   "id": "301ed791",
   "metadata": {
    "deletable": false,
    "editable": false,
    "nbgrader": {
     "cell_type": "code",
     "checksum": "7d500cca44b760d39f84b2157fd4cbb0",
     "grade": true,
     "grade_id": "cell-6b4e152419036bea",
     "locked": true,
     "points": 1,
     "schema_version": 3,
     "solution": false,
     "task": false
    }
   },
   "outputs": [],
   "source": [
    "# Do not edit this cell!!!"
   ]
  },
  {
   "cell_type": "markdown",
   "id": "49676c44",
   "metadata": {
    "deletable": false,
    "editable": false,
    "nbgrader": {
     "cell_type": "markdown",
     "checksum": "fcc7c10aabf469689adbcb13ce2c3f58",
     "grade": false,
     "grade_id": "cell-16eaa54ea1f04a06",
     "locked": true,
     "schema_version": 3,
     "solution": false,
     "task": false
    }
   },
   "source": [
    "(e) 1000 samples of `et` ($e_t$ with standard normal distributions, with t=1,2,...,1000) are generated and stored in the rows of `et_all`. Denote the elements in the ith row of `et_all` as $e_{it}, t=1,2,...,1000$ (with t-1 being the column index, because of 0-indexing).\n",
    "Use `et_all` to generate `yt_all`, where each row is a sample of $y_t$ with t=1,2,...,1000 $y_{t}=y_{t-1}+e_{t}$, and assume $y_0=0$. Use the function written in part(d) to generate the t statistics by taking each of the rows of `yt_all` as a sample, and assign these 1000 t values to variable `tvalues`. These t values are simulated from Dickey-Fuller distribution.\n",
    "\n",
    "[2 Points]"
   ]
  },
  {
   "cell_type": "code",
   "execution_count": 27,
   "id": "223d3e34",
   "metadata": {
    "deletable": false,
    "nbgrader": {
     "cell_type": "code",
     "checksum": "da5f5fcbac3dae1a1178135236b850e1",
     "grade": false,
     "grade_id": "cell-264a8aaf0e955f73",
     "locked": false,
     "schema_version": 3,
     "solution": true,
     "task": false
    }
   },
   "outputs": [],
   "source": [
    "#Answer Cell\n",
    "import numpy as np\n",
    "np.random.seed(200)\n",
    "n_sample = 1000\n",
    "n_obs = 1000\n",
    "et_all = np.random.randn(n_sample,n_obs)\n",
    "yt_all = np.zeros((n_sample,n_obs))\n",
    "tvalues = np.zeros(n_sample)\n",
    "for i in range(n_sample):\n",
    "    for j in range(n_obs):\n",
    "        if j >= 1:\n",
    "            yt_all[i,j] = yt_all[i,j-1]+et_all[i,j]\n",
    "        else:\n",
    "            yt_all[i,j] = et_all[i,j]  \n",
    "    tvalues[i] = tvalue_ols(yt_all[i, :])"
   ]
  },
  {
   "cell_type": "code",
   "execution_count": null,
   "id": "c564da6a",
   "metadata": {
    "deletable": false,
    "editable": false,
    "nbgrader": {
     "cell_type": "code",
     "checksum": "1fab517ae67923b80e18ea3a9c0a4f1c",
     "grade": true,
     "grade_id": "cell-9e78b8e2b17b7ed4",
     "locked": true,
     "points": 1,
     "schema_version": 3,
     "solution": false,
     "task": false
    }
   },
   "outputs": [],
   "source": [
    "# Do not edit this cell!!!"
   ]
  },
  {
   "cell_type": "code",
   "execution_count": null,
   "id": "8a95531c",
   "metadata": {
    "deletable": false,
    "editable": false,
    "nbgrader": {
     "cell_type": "code",
     "checksum": "021f83cda096a40846908b9b7a0220cc",
     "grade": true,
     "grade_id": "cell-52be3319acb58e22",
     "locked": true,
     "points": 1,
     "schema_version": 3,
     "solution": false,
     "task": false
    }
   },
   "outputs": [],
   "source": [
    "# Do not edit this cell!!!"
   ]
  },
  {
   "cell_type": "markdown",
   "id": "670aff15",
   "metadata": {
    "deletable": false,
    "editable": false,
    "nbgrader": {
     "cell_type": "markdown",
     "checksum": "d2e510e44e5b9b3e25f0e2740ca94154",
     "grade": false,
     "grade_id": "cell-c7332ac67da81a3f",
     "locked": true,
     "schema_version": 3,
     "solution": false,
     "task": false
    }
   },
   "source": [
    "(f) Generate a histogram (usig `bins=50`) for the simulated t statistics (tvalues) from (e) and compare it with a PDF from a normal distribution in the same figure (using `twinx`). Generate legend in appropriate positions (not covered by the other) for each of the plots, with the histogram named 'Dickey-Fuller' and normal PDF named \"Normal\".\n",
    "\n",
    "[2 Points]"
   ]
  },
  {
   "cell_type": "code",
   "execution_count": 26,
   "id": "90ea33fb",
   "metadata": {
    "deletable": false,
    "nbgrader": {
     "cell_type": "code",
     "checksum": "e6b57e266608cad08f67fc66f5ab522e",
     "grade": true,
     "grade_id": "cell-a5ff5ff5ac59d96a",
     "locked": false,
     "points": 2,
     "schema_version": 3,
     "solution": true,
     "task": false
    }
   },
   "outputs": [],
   "source": [
    "#Answer Cell\n",
    "import matplotlib.pyplot as plt\n",
    "import scipy.stats as stats\n",
    "fig = plt.figure()\n",
    "ax = fig.add_subplot()\n",
    "ax.hist(tvalues, bins=50, label='Dickey-Fuller')\n",
    "ax.legend(loc='upper left')\n",
    "xlim = ax.get_xlim()\n",
    "pdfx = np.linspace(xlim[0], xlim[1], 200)\n",
    "pdfy = stats.norm.pdf(pdfx) \n",
    "ax2 = ax.twinx()\n",
    "ax2.plot(pdfx, pdfy, 'r-', label='Normal')\n",
    "ax2.legend(loc='upper right')\n",
    "plt.show()"
   ]
  }
 ],
 "metadata": {
  "kernelspec": {
   "display_name": "Python 3 (ipykernel)",
   "language": "python",
   "name": "python3"
  },
  "language_info": {
   "codemirror_mode": {
    "name": "ipython",
    "version": 3
   },
   "file_extension": ".py",
   "mimetype": "text/x-python",
   "name": "python",
   "nbconvert_exporter": "python",
   "pygments_lexer": "ipython3",
   "version": "3.9.7"
  }
 },
 "nbformat": 4,
 "nbformat_minor": 5
}
